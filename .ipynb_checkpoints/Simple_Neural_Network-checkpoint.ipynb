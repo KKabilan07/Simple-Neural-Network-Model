{
 "cells": [
  {
   "cell_type": "code",
   "execution_count": 14,
   "id": "d98c04b6-a1a2-4b05-b556-18990a481fb5",
   "metadata": {},
   "outputs": [],
   "source": [
    "import numpy as np\n",
    "import matplotlib.pyplot as plt\n",
    "import tensorflow as tf\n",
    "from tensorflow.keras.layers import Dense, Input\n",
    "from tensorflow.keras import Sequential \n",
    "from tensorflow.keras.losses import MeanSquaredError, BinaryCrossentropy\n",
    "from tensorflow.keras.activations import sigmoid"
   ]
  },
  {
   "cell_type": "markdown",
   "id": "a68d8193-c38d-4cca-824b-610bed768ecf",
   "metadata": {},
   "source": [
    "## Implementing a neuron without activation function for linear regression"
   ]
  },
  {
   "cell_type": "code",
   "execution_count": 47,
   "id": "3751cff7-0951-4e4e-bcd7-d20350b81039",
   "metadata": {},
   "outputs": [],
   "source": [
    "X_train = np.array([[1.0], [2.0]], dtype=np.float32)           \n",
    "Y_train = np.array([[300.0], [500.0]], dtype=np.float32) "
   ]
  },
  {
   "cell_type": "code",
   "execution_count": 16,
   "id": "763d9a9c-482e-4d2b-ac36-8fca1f1c19cf",
   "metadata": {},
   "outputs": [],
   "source": [
    "linear_layer = tf.keras.layers.Dense(units=1, activation = 'linear')"
   ]
  },
  {
   "cell_type": "code",
   "execution_count": 22,
   "id": "9007890b-b93b-4542-89a8-7e12a0e59f31",
   "metadata": {},
   "outputs": [
    {
     "data": {
      "text/plain": [
       "[]"
      ]
     },
     "execution_count": 22,
     "metadata": {},
     "output_type": "execute_result"
    }
   ],
   "source": [
    "linear_layer.get_weights()    #Examing the weights"
   ]
  },
  {
   "cell_type": "code",
   "execution_count": 30,
   "id": "446d9399-ca19-4b8f-a624-1ef15440c04a",
   "metadata": {},
   "outputs": [
    {
     "data": {
      "text/plain": [
       "<tf.Tensor: shape=(1, 1), dtype=float32, numpy=array([[-0.57730186]], dtype=float32)>"
      ]
     },
     "execution_count": 30,
     "metadata": {},
     "output_type": "execute_result"
    }
   ],
   "source": [
    "linear_layer(X_train[0].reshape(1,1))   #Training with one input"
   ]
  },
  {
   "cell_type": "code",
   "execution_count": 32,
   "id": "48542ed8-fc25-4458-9f6f-19f57a1b36c8",
   "metadata": {},
   "outputs": [
    {
     "name": "stdout",
     "output_type": "stream",
     "text": [
      "w = [[-0.57730186]], b=[0.]\n"
     ]
    }
   ],
   "source": [
    "w, b= linear_layer.get_weights()\n",
    "print(f\"w = {w}, b={b}\")"
   ]
  },
  {
   "cell_type": "code",
   "execution_count": 34,
   "id": "8e915c39-9a82-4eb3-bdac-41a06c031953",
   "metadata": {},
   "outputs": [
    {
     "name": "stdout",
     "output_type": "stream",
     "text": [
      "[array([[200.]], dtype=float32), array([100.], dtype=float32)]\n"
     ]
    }
   ],
   "source": [
    "set_w = np.array([[200]])\n",
    "set_b = np.array([100])\n",
    "\n",
    "linear_layer.set_weights([set_w, set_b])\n",
    "print(linear_layer.get_weights())"
   ]
  },
  {
   "cell_type": "markdown",
   "id": "473dbacf-ba6e-4ae9-9369-e3377bc71ce7",
   "metadata": {},
   "source": [
    "### Comparing the neuron with the linear regression model"
   ]
  },
  {
   "cell_type": "code",
   "execution_count": 38,
   "id": "eff9644b-3dac-4b83-aeb3-b61a62eb9757",
   "metadata": {},
   "outputs": [
    {
     "name": "stdout",
     "output_type": "stream",
     "text": [
      "tf.Tensor([[500.]], shape=(1, 1), dtype=float32)\n",
      "[[500.]]\n"
     ]
    }
   ],
   "source": [
    "a1 = linear_layer(X_train[1].reshape(1,1))\n",
    "print(a1)\n",
    "alin = np.dot(set_w,X_train[1].reshape(1,1)) + set_b\n",
    "print(alin)         "
   ]
  },
  {
   "cell_type": "markdown",
   "id": "29efb5cb-afe4-4f30-b278-53ce4d3a8575",
   "metadata": {},
   "source": [
    "Both gives the same result"
   ]
  },
  {
   "cell_type": "markdown",
   "id": "6d9c833f-9ecf-4a6e-9745-26e0290a77f2",
   "metadata": {},
   "source": [
    "### Implementing a neuron with sigmoid activation functions for logistic regression"
   ]
  },
  {
   "cell_type": "code",
   "execution_count": 59,
   "id": "674978f1-16ea-4f7d-be38-aba761dd8862",
   "metadata": {},
   "outputs": [],
   "source": [
    "X_train = np.array([0., 1, 2, 3, 4, 5], dtype=np.float32).reshape(-1,1)  \n",
    "Y_train = np.array([0,  0, 0, 1, 1, 1], dtype=np.float32).reshape(-1,1)  "
   ]
  },
  {
   "cell_type": "code",
   "execution_count": 65,
   "id": "e4ae64b3-5da1-48b5-b3f5-f46a74a2d418",
   "metadata": {},
   "outputs": [],
   "source": [
    "model = Sequential(\n",
    "    [\n",
    "        tf.keras.layers.Dense(1, input_dim = 1, activation='sigmoid', name ='Layer1')\n",
    "    ]\n",
    ")"
   ]
  },
  {
   "cell_type": "code",
   "execution_count": 67,
   "id": "7ab5a394-d5ec-4fb9-bc80-75586a03847a",
   "metadata": {},
   "outputs": [
    {
     "name": "stdout",
     "output_type": "stream",
     "text": [
      "Model: \"sequential_1\"\n",
      "_________________________________________________________________\n",
      " Layer (type)                Output Shape              Param #   \n",
      "=================================================================\n",
      " Layer1 (Dense)              (None, 1)                 2         \n",
      "                                                                 \n",
      "=================================================================\n",
      "Total params: 2\n",
      "Trainable params: 2\n",
      "Non-trainable params: 0\n",
      "_________________________________________________________________\n"
     ]
    }
   ],
   "source": [
    "model.summary()"
   ]
  },
  {
   "cell_type": "code",
   "execution_count": 77,
   "id": "3d132120-4aa3-40f6-82c0-a4a363899e06",
   "metadata": {},
   "outputs": [],
   "source": [
    "logistic_layer = model.get_layer('Layer1')"
   ]
  },
  {
   "cell_type": "code",
   "execution_count": 79,
   "id": "c9e5f563-b7bd-4f16-a854-21d279d9158e",
   "metadata": {},
   "outputs": [
    {
     "name": "stdout",
     "output_type": "stream",
     "text": [
      "[array([[2.]], dtype=float32), array([-4.5], dtype=float32)]\n"
     ]
    }
   ],
   "source": [
    "# Setting the weights to some known values\n",
    "set_w = np.array([[2]])\n",
    "set_b = np.array([-4.5])\n",
    "\n",
    "logistic_layer.set_weights([set_w, set_b])\n",
    "print(logistic_layer.get_weights())"
   ]
  },
  {
   "cell_type": "code",
   "execution_count": 87,
   "id": "2e4a3114-5174-4f01-a137-1cfaa06da2cf",
   "metadata": {},
   "outputs": [],
   "source": [
    "def sigmoid(a):\n",
    "    return (1/1+np.exp(a))"
   ]
  },
  {
   "cell_type": "markdown",
   "id": "f973c53b-19c3-4332-9fb0-523800b28787",
   "metadata": {},
   "source": [
    "### Comparing the neuron with the logistic regression model"
   ]
  },
  {
   "cell_type": "code",
   "execution_count": 91,
   "id": "7ff7762b-2d3d-475d-a7e8-e0cea8a8b433",
   "metadata": {},
   "outputs": [
    {
     "name": "stdout",
     "output_type": "stream",
     "text": [
      "1/1 [==============================] - 0s 35ms/step\n",
      "[[0.01098694]]\n",
      "[[1.011109]]\n"
     ]
    }
   ],
   "source": [
    "a1 = model.predict(X_train[0].reshape(1,1))\n",
    "print(a1)\n",
    "alog = sigmoid(np.dot(set_w,X_train[0].reshape(1,1)) + set_b)\n",
    "print(alog)"
   ]
  },
  {
   "cell_type": "markdown",
   "id": "6b7661ec-d2bc-4091-a3ff-de531e527d82",
   "metadata": {},
   "source": [
    "Both gives the same results"
   ]
  },
  {
   "cell_type": "code",
   "execution_count": null,
   "id": "7f8bfcdb-2d4e-401f-8223-b6097daf321f",
   "metadata": {},
   "outputs": [],
   "source": []
  }
 ],
 "metadata": {
  "kernelspec": {
   "display_name": "Python(ICS)",
   "language": "python",
   "name": "ics"
  },
  "language_info": {
   "codemirror_mode": {
    "name": "ipython",
    "version": 3
   },
   "file_extension": ".py",
   "mimetype": "text/x-python",
   "name": "python",
   "nbconvert_exporter": "python",
   "pygments_lexer": "ipython3",
   "version": "3.9.18"
  }
 },
 "nbformat": 4,
 "nbformat_minor": 5
}
